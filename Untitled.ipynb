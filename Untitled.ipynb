{
 "cells": [
  {
   "cell_type": "code",
   "execution_count": 197,
   "id": "cd4c03c1-50c1-49b0-9e60-4eb094514323",
   "metadata": {},
   "outputs": [
    {
     "name": "stdout",
     "output_type": "stream",
     "text": [
      "['/Users/ivanovitchsilva/mlops_nd_c3', '/Users/ivanovitchsilva/opt/anaconda3/envs/deploy/lib/python38.zip', '/Users/ivanovitchsilva/opt/anaconda3/envs/deploy/lib/python3.8', '/Users/ivanovitchsilva/opt/anaconda3/envs/deploy/lib/python3.8/lib-dynload', '', '/Users/ivanovitchsilva/opt/anaconda3/envs/deploy/lib/python3.8/site-packages', '/Users/ivanovitchsilva/mlops_nd_c3/', '/Users/ivanovitchsilva/mlops_nd_c3/pipeline', '/Users/ivanovitchsilva/mlops_nd_c3/']\n"
     ]
    }
   ],
   "source": [
    "\"\"\"\n",
    "Creator: Ivanovitch Silva\n",
    "Date: 26 Mar. 2022\n",
    "Create API\n",
    "\"\"\"\n",
    "import argparse\n",
    "import logging\n",
    "import pandas as pd\n",
    "import joblib\n",
    "import json\n",
    "from collections import defaultdict\n",
    "import sys\n",
    "import pathlib\n",
    "import os\n",
    "# append the folder into the path\n",
    "path = os.path.join(pathlib.Path.cwd(), \"\")\n",
    "sys.path.append(path)\n",
    "from pipeline.train.helper import inference, compute_model_metrics\n",
    "print(sys.path)"
   ]
  },
  {
   "cell_type": "code",
   "execution_count": 223,
   "id": "47d7aff9-f64f-4310-a50f-4340130e40d0",
   "metadata": {},
   "outputs": [],
   "source": [
    "\n",
    "# Downloading and reading test artifact\n",
    "df_test = pd.read_csv(\"pipeline/data/test_data.csv\")\n",
    "\n",
    "# Extract the target from the features\n",
    "x_test = df_test.copy()\n",
    "y_test = x_test.pop(\"salary\")\n",
    "\n",
    "# Take only 1 instance\n",
    "x_test = x_test.iloc[114:115]\n",
    "y_test = y_test.iloc[114:115]"
   ]
  },
  {
   "cell_type": "code",
   "execution_count": 224,
   "id": "cea1b6f1-d795-4e0a-8cae-e2d379b23712",
   "metadata": {},
   "outputs": [
    {
     "data": {
      "text/plain": [
       "114    >50K\n",
       "Name: salary, dtype: object"
      ]
     },
     "execution_count": 224,
     "metadata": {},
     "output_type": "execute_result"
    }
   ],
   "source": [
    "y_test"
   ]
  },
  {
   "cell_type": "code",
   "execution_count": 225,
   "id": "1284fd44-cbed-4d91-950e-fba6a9d05408",
   "metadata": {},
   "outputs": [
    {
     "data": {
      "text/html": [
       "<div>\n",
       "<style scoped>\n",
       "    .dataframe tbody tr th:only-of-type {\n",
       "        vertical-align: middle;\n",
       "    }\n",
       "\n",
       "    .dataframe tbody tr th {\n",
       "        vertical-align: top;\n",
       "    }\n",
       "\n",
       "    .dataframe thead th {\n",
       "        text-align: right;\n",
       "    }\n",
       "</style>\n",
       "<table border=\"1\" class=\"dataframe\">\n",
       "  <thead>\n",
       "    <tr style=\"text-align: right;\">\n",
       "      <th></th>\n",
       "      <th>age</th>\n",
       "      <th>workclass</th>\n",
       "      <th>fnlwgt</th>\n",
       "      <th>education</th>\n",
       "      <th>education_num</th>\n",
       "      <th>marital_status</th>\n",
       "      <th>occupation</th>\n",
       "      <th>relationship</th>\n",
       "      <th>race</th>\n",
       "      <th>sex</th>\n",
       "      <th>capital_gain</th>\n",
       "      <th>capital_loss</th>\n",
       "      <th>hours_per_week</th>\n",
       "      <th>native_country</th>\n",
       "    </tr>\n",
       "  </thead>\n",
       "  <tbody>\n",
       "    <tr>\n",
       "      <th>114</th>\n",
       "      <td>51</td>\n",
       "      <td>Private</td>\n",
       "      <td>178054</td>\n",
       "      <td>Some-college</td>\n",
       "      <td>10</td>\n",
       "      <td>Married-civ-spouse</td>\n",
       "      <td>Sales</td>\n",
       "      <td>Husband</td>\n",
       "      <td>White</td>\n",
       "      <td>Male</td>\n",
       "      <td>0</td>\n",
       "      <td>0</td>\n",
       "      <td>40</td>\n",
       "      <td>?</td>\n",
       "    </tr>\n",
       "  </tbody>\n",
       "</table>\n",
       "</div>"
      ],
      "text/plain": [
       "     age workclass  fnlwgt     education  education_num      marital_status  \\\n",
       "114   51   Private  178054  Some-college             10  Married-civ-spouse   \n",
       "\n",
       "    occupation relationship   race   sex  capital_gain  capital_loss  \\\n",
       "114      Sales      Husband  White  Male             0             0   \n",
       "\n",
       "     hours_per_week native_country  \n",
       "114              40              ?  "
      ]
     },
     "execution_count": 225,
     "metadata": {},
     "output_type": "execute_result"
    }
   ],
   "source": [
    "x_test"
   ]
  },
  {
   "cell_type": "code",
   "execution_count": 220,
   "id": "6133d8e9-bf85-4fe8-9cbd-e398865fea58",
   "metadata": {},
   "outputs": [],
   "source": [
    "import numpy as np\n",
    "# Extract the encoding of the target variable\n",
    "le = joblib.load(\"pipeline/data/encoder_export\")\n",
    "\n",
    "# transform y_train\n",
    "y_test = le.transform(np.array(y_test))\n"
   ]
  },
  {
   "cell_type": "code",
   "execution_count": 221,
   "id": "9183f5f0-1a10-44fc-96db-c0ef371916e2",
   "metadata": {},
   "outputs": [
    {
     "data": {
      "text/plain": [
       "array(['<=50K', '>50K'], dtype=object)"
      ]
     },
     "execution_count": 221,
     "metadata": {},
     "output_type": "execute_result"
    }
   ],
   "source": [
    "le.inverse_transform([0, 1])"
   ]
  },
  {
   "cell_type": "code",
   "execution_count": 226,
   "id": "463f2a84-3c48-4530-8774-7994bafba98d",
   "metadata": {},
   "outputs": [
    {
     "name": "stdout",
     "output_type": "stream",
     "text": [
      "[0]\n"
     ]
    }
   ],
   "source": [
    "# Download inference artifact\n",
    "pipe = joblib.load(\"pipeline/data/model_export\")\n",
    "\n",
    "# Predict test data\n",
    "predict = inference(pipe, x_test)\n",
    "\n",
    "print(predict)"
   ]
  },
  {
   "cell_type": "code",
   "execution_count": 180,
   "id": "03325e65-d43c-4802-9c7e-95471105b89d",
   "metadata": {},
   "outputs": [
    {
     "data": {
      "text/html": [
       "<div>\n",
       "<style scoped>\n",
       "    .dataframe tbody tr th:only-of-type {\n",
       "        vertical-align: middle;\n",
       "    }\n",
       "\n",
       "    .dataframe tbody tr th {\n",
       "        vertical-align: top;\n",
       "    }\n",
       "\n",
       "    .dataframe thead th {\n",
       "        text-align: right;\n",
       "    }\n",
       "</style>\n",
       "<table border=\"1\" class=\"dataframe\">\n",
       "  <thead>\n",
       "    <tr style=\"text-align: right;\">\n",
       "      <th></th>\n",
       "      <th>age</th>\n",
       "      <th>workclass</th>\n",
       "      <th>fnlwgt</th>\n",
       "      <th>education</th>\n",
       "      <th>education_num</th>\n",
       "      <th>marital_status</th>\n",
       "      <th>occupation</th>\n",
       "      <th>relationship</th>\n",
       "      <th>race</th>\n",
       "      <th>sex</th>\n",
       "      <th>capital_gain</th>\n",
       "      <th>capital_loss</th>\n",
       "      <th>hours_per_week</th>\n",
       "      <th>native_country</th>\n",
       "    </tr>\n",
       "  </thead>\n",
       "  <tbody>\n",
       "    <tr>\n",
       "      <th>9</th>\n",
       "      <td>61</td>\n",
       "      <td>Local-gov</td>\n",
       "      <td>144723</td>\n",
       "      <td>Masters</td>\n",
       "      <td>14</td>\n",
       "      <td>Married-civ-spouse</td>\n",
       "      <td>Exec-managerial</td>\n",
       "      <td>Husband</td>\n",
       "      <td>White</td>\n",
       "      <td>Male</td>\n",
       "      <td>7298</td>\n",
       "      <td>0</td>\n",
       "      <td>60</td>\n",
       "      <td>United-States</td>\n",
       "    </tr>\n",
       "  </tbody>\n",
       "</table>\n",
       "</div>"
      ],
      "text/plain": [
       "   age  workclass  fnlwgt education  education_num      marital_status  \\\n",
       "9   61  Local-gov  144723   Masters             14  Married-civ-spouse   \n",
       "\n",
       "        occupation relationship   race   sex  capital_gain  capital_loss  \\\n",
       "9  Exec-managerial      Husband  White  Male          7298             0   \n",
       "\n",
       "   hours_per_week native_country  \n",
       "9              60  United-States  "
      ]
     },
     "execution_count": 180,
     "metadata": {},
     "output_type": "execute_result"
    }
   ],
   "source": [
    "x_test.iloc[-1:]"
   ]
  },
  {
   "cell_type": "code",
   "execution_count": 196,
   "id": "740d3276-d8fe-4075-9f3a-2632c85132cf",
   "metadata": {},
   "outputs": [
    {
     "data": {
      "text/plain": [
       "array([0])"
      ]
     },
     "execution_count": 196,
     "metadata": {},
     "output_type": "execute_result"
    }
   ],
   "source": [
    "inference(pipe, x_test.iloc[-1:])"
   ]
  },
  {
   "cell_type": "code",
   "execution_count": 190,
   "id": "c2963bde-ef61-4938-934a-0b36249c2328",
   "metadata": {},
   "outputs": [
    {
     "data": {
      "text/plain": [
       "{'age': 61,\n",
       " 'workclass': 'Local-gov',\n",
       " 'fnlwgt': 144723,\n",
       " 'education': 'Masters',\n",
       " 'education_num': 14,\n",
       " 'marital_status': 'Married-civ-spouse',\n",
       " 'occupation': 'Exec-managerial',\n",
       " 'relationship': 'Husband',\n",
       " 'race': 'White',\n",
       " 'sex': 'Male',\n",
       " 'capital_gain': 7298,\n",
       " 'capital_loss': 0,\n",
       " 'hours_per_week': 60,\n",
       " 'native_country': 'United-States'}"
      ]
     },
     "execution_count": 190,
     "metadata": {},
     "output_type": "execute_result"
    }
   ],
   "source": [
    "x_test.iloc[-1].to_dict()"
   ]
  },
  {
   "cell_type": "code",
   "execution_count": 191,
   "id": "d8893e2f-7f2a-44ec-ac99-d4a617edaeab",
   "metadata": {
    "tags": []
   },
   "outputs": [
    {
     "data": {
      "text/plain": [
       "0     >50K\n",
       "1    <=50K\n",
       "2    <=50K\n",
       "3    <=50K\n",
       "4    <=50K\n",
       "5    <=50K\n",
       "6    <=50K\n",
       "7    <=50K\n",
       "8    <=50K\n",
       "9     >50K\n",
       "Name: salary, dtype: object"
      ]
     },
     "execution_count": 191,
     "metadata": {},
     "output_type": "execute_result"
    }
   ],
   "source": [
    "y_test"
   ]
  },
  {
   "cell_type": "code",
   "execution_count": null,
   "id": "8872b18d-4520-44ea-8865-f4d5fbae0a7a",
   "metadata": {},
   "outputs": [],
   "source": []
  },
  {
   "cell_type": "code",
   "execution_count": 159,
   "id": "5dbf10ab-bf46-47fa-9041-0264c69154fb",
   "metadata": {},
   "outputs": [],
   "source": [
    "aux = x_test.iloc[-1].to_dict()"
   ]
  },
  {
   "cell_type": "code",
   "execution_count": 165,
   "id": "5d7409f7-04ba-4624-bb57-86190cd17072",
   "metadata": {},
   "outputs": [
    {
     "data": {
      "text/plain": [
       "{'age': 61,\n",
       " 'workclass': 'Local-gov',\n",
       " 'fnlwgt': 144723,\n",
       " 'education': 'Masters',\n",
       " 'education_num': 14,\n",
       " 'marital_status': 'Married-civ-spouse',\n",
       " 'occupation': 'Exec-managerial',\n",
       " 'relationship': 'Husband',\n",
       " 'race': 'White',\n",
       " 'sex': 'Male',\n",
       " 'capital_gain': 7298,\n",
       " 'capital_loss': 0,\n",
       " 'hours_per_week': 60,\n",
       " 'native_country': 'United-States'}"
      ]
     },
     "execution_count": 165,
     "metadata": {},
     "output_type": "execute_result"
    }
   ],
   "source": [
    "aux"
   ]
  },
  {
   "cell_type": "code",
   "execution_count": 160,
   "id": "9527684e-4cd0-4e16-b2cc-39e90935d08b",
   "metadata": {
    "tags": []
   },
   "outputs": [],
   "source": [
    "df = pd.DataFrame([aux])"
   ]
  },
  {
   "cell_type": "code",
   "execution_count": 161,
   "id": "9fdee7f6-6711-47e9-aa08-d67b1ee8dd4f",
   "metadata": {},
   "outputs": [
    {
     "data": {
      "text/plain": [
       "array([[61, 'Local-gov', 144723, 'Masters', 14, 'Married-civ-spouse',\n",
       "        'Exec-managerial', 'Husband', 'White', 'Male', 7298, 0, 60,\n",
       "        'United-States']], dtype=object)"
      ]
     },
     "execution_count": 161,
     "metadata": {},
     "output_type": "execute_result"
    }
   ],
   "source": [
    "df.values"
   ]
  },
  {
   "cell_type": "code",
   "execution_count": 162,
   "id": "6152a2f1-1df6-4230-802b-4c10ef0fe5ce",
   "metadata": {},
   "outputs": [
    {
     "data": {
      "text/plain": [
       "array([0])"
      ]
     },
     "execution_count": 162,
     "metadata": {},
     "output_type": "execute_result"
    }
   ],
   "source": [
    "pipe.predict(df)"
   ]
  },
  {
   "cell_type": "code",
   "execution_count": 163,
   "id": "e82032e2-4ead-4552-ab38-f429b9e9081f",
   "metadata": {
    "tags": []
   },
   "outputs": [
    {
     "data": {
      "text/plain": [
       "array([0])"
      ]
     },
     "execution_count": 163,
     "metadata": {},
     "output_type": "execute_result"
    }
   ],
   "source": [
    "# Predict test data\n",
    "predict = inference(pipe, df)\n",
    "predict"
   ]
  },
  {
   "cell_type": "code",
   "execution_count": 164,
   "id": "42301d1c-9c53-420f-8878-1359d281cc03",
   "metadata": {},
   "outputs": [
    {
     "data": {
      "text/html": [
       "<div>\n",
       "<style scoped>\n",
       "    .dataframe tbody tr th:only-of-type {\n",
       "        vertical-align: middle;\n",
       "    }\n",
       "\n",
       "    .dataframe tbody tr th {\n",
       "        vertical-align: top;\n",
       "    }\n",
       "\n",
       "    .dataframe thead th {\n",
       "        text-align: right;\n",
       "    }\n",
       "</style>\n",
       "<table border=\"1\" class=\"dataframe\">\n",
       "  <thead>\n",
       "    <tr style=\"text-align: right;\">\n",
       "      <th></th>\n",
       "      <th>age</th>\n",
       "      <th>workclass</th>\n",
       "      <th>fnlwgt</th>\n",
       "      <th>education</th>\n",
       "      <th>education_num</th>\n",
       "      <th>marital_status</th>\n",
       "      <th>occupation</th>\n",
       "      <th>relationship</th>\n",
       "      <th>race</th>\n",
       "      <th>sex</th>\n",
       "      <th>capital_gain</th>\n",
       "      <th>capital_loss</th>\n",
       "      <th>hours_per_week</th>\n",
       "      <th>native_country</th>\n",
       "    </tr>\n",
       "  </thead>\n",
       "  <tbody>\n",
       "    <tr>\n",
       "      <th>0</th>\n",
       "      <td>72</td>\n",
       "      <td>Self-emp-inc</td>\n",
       "      <td>473748</td>\n",
       "      <td>Some-college</td>\n",
       "      <td>10</td>\n",
       "      <td>Married-civ-spouse</td>\n",
       "      <td>Exec-managerial</td>\n",
       "      <td>Husband</td>\n",
       "      <td>White</td>\n",
       "      <td>Male</td>\n",
       "      <td>0</td>\n",
       "      <td>0</td>\n",
       "      <td>25</td>\n",
       "      <td>United-States</td>\n",
       "    </tr>\n",
       "    <tr>\n",
       "      <th>1</th>\n",
       "      <td>30</td>\n",
       "      <td>Private</td>\n",
       "      <td>306383</td>\n",
       "      <td>Some-college</td>\n",
       "      <td>10</td>\n",
       "      <td>Divorced</td>\n",
       "      <td>Handlers-cleaners</td>\n",
       "      <td>Not-in-family</td>\n",
       "      <td>White</td>\n",
       "      <td>Male</td>\n",
       "      <td>0</td>\n",
       "      <td>0</td>\n",
       "      <td>50</td>\n",
       "      <td>United-States</td>\n",
       "    </tr>\n",
       "    <tr>\n",
       "      <th>2</th>\n",
       "      <td>22</td>\n",
       "      <td>Private</td>\n",
       "      <td>229987</td>\n",
       "      <td>Some-college</td>\n",
       "      <td>10</td>\n",
       "      <td>Never-married</td>\n",
       "      <td>Tech-support</td>\n",
       "      <td>Other-relative</td>\n",
       "      <td>Asian-Pac-Islander</td>\n",
       "      <td>Female</td>\n",
       "      <td>0</td>\n",
       "      <td>0</td>\n",
       "      <td>32</td>\n",
       "      <td>United-States</td>\n",
       "    </tr>\n",
       "    <tr>\n",
       "      <th>3</th>\n",
       "      <td>22</td>\n",
       "      <td>Private</td>\n",
       "      <td>189950</td>\n",
       "      <td>Bachelors</td>\n",
       "      <td>13</td>\n",
       "      <td>Never-married</td>\n",
       "      <td>Prof-specialty</td>\n",
       "      <td>Not-in-family</td>\n",
       "      <td>White</td>\n",
       "      <td>Male</td>\n",
       "      <td>0</td>\n",
       "      <td>0</td>\n",
       "      <td>55</td>\n",
       "      <td>United-States</td>\n",
       "    </tr>\n",
       "    <tr>\n",
       "      <th>4</th>\n",
       "      <td>46</td>\n",
       "      <td>Private</td>\n",
       "      <td>218329</td>\n",
       "      <td>Some-college</td>\n",
       "      <td>10</td>\n",
       "      <td>Never-married</td>\n",
       "      <td>Craft-repair</td>\n",
       "      <td>Own-child</td>\n",
       "      <td>White</td>\n",
       "      <td>Male</td>\n",
       "      <td>0</td>\n",
       "      <td>0</td>\n",
       "      <td>40</td>\n",
       "      <td>United-States</td>\n",
       "    </tr>\n",
       "    <tr>\n",
       "      <th>5</th>\n",
       "      <td>48</td>\n",
       "      <td>Private</td>\n",
       "      <td>320421</td>\n",
       "      <td>HS-grad</td>\n",
       "      <td>9</td>\n",
       "      <td>Married-civ-spouse</td>\n",
       "      <td>Sales</td>\n",
       "      <td>Husband</td>\n",
       "      <td>White</td>\n",
       "      <td>Male</td>\n",
       "      <td>0</td>\n",
       "      <td>0</td>\n",
       "      <td>50</td>\n",
       "      <td>United-States</td>\n",
       "    </tr>\n",
       "    <tr>\n",
       "      <th>6</th>\n",
       "      <td>23</td>\n",
       "      <td>Local-gov</td>\n",
       "      <td>210029</td>\n",
       "      <td>Some-college</td>\n",
       "      <td>10</td>\n",
       "      <td>Never-married</td>\n",
       "      <td>Adm-clerical</td>\n",
       "      <td>Own-child</td>\n",
       "      <td>White</td>\n",
       "      <td>Female</td>\n",
       "      <td>0</td>\n",
       "      <td>0</td>\n",
       "      <td>20</td>\n",
       "      <td>United-States</td>\n",
       "    </tr>\n",
       "    <tr>\n",
       "      <th>7</th>\n",
       "      <td>58</td>\n",
       "      <td>Private</td>\n",
       "      <td>126104</td>\n",
       "      <td>Masters</td>\n",
       "      <td>14</td>\n",
       "      <td>Divorced</td>\n",
       "      <td>Adm-clerical</td>\n",
       "      <td>Not-in-family</td>\n",
       "      <td>White</td>\n",
       "      <td>Female</td>\n",
       "      <td>0</td>\n",
       "      <td>1980</td>\n",
       "      <td>45</td>\n",
       "      <td>United-States</td>\n",
       "    </tr>\n",
       "    <tr>\n",
       "      <th>8</th>\n",
       "      <td>23</td>\n",
       "      <td>Private</td>\n",
       "      <td>166527</td>\n",
       "      <td>Some-college</td>\n",
       "      <td>10</td>\n",
       "      <td>Never-married</td>\n",
       "      <td>Exec-managerial</td>\n",
       "      <td>Own-child</td>\n",
       "      <td>Other</td>\n",
       "      <td>Female</td>\n",
       "      <td>0</td>\n",
       "      <td>0</td>\n",
       "      <td>40</td>\n",
       "      <td>United-States</td>\n",
       "    </tr>\n",
       "    <tr>\n",
       "      <th>9</th>\n",
       "      <td>61</td>\n",
       "      <td>Local-gov</td>\n",
       "      <td>144723</td>\n",
       "      <td>Masters</td>\n",
       "      <td>14</td>\n",
       "      <td>Married-civ-spouse</td>\n",
       "      <td>Exec-managerial</td>\n",
       "      <td>Husband</td>\n",
       "      <td>White</td>\n",
       "      <td>Male</td>\n",
       "      <td>7298</td>\n",
       "      <td>0</td>\n",
       "      <td>60</td>\n",
       "      <td>United-States</td>\n",
       "    </tr>\n",
       "  </tbody>\n",
       "</table>\n",
       "</div>"
      ],
      "text/plain": [
       "   age     workclass  fnlwgt     education  education_num      marital_status  \\\n",
       "0   72  Self-emp-inc  473748  Some-college             10  Married-civ-spouse   \n",
       "1   30       Private  306383  Some-college             10            Divorced   \n",
       "2   22       Private  229987  Some-college             10       Never-married   \n",
       "3   22       Private  189950     Bachelors             13       Never-married   \n",
       "4   46       Private  218329  Some-college             10       Never-married   \n",
       "5   48       Private  320421       HS-grad              9  Married-civ-spouse   \n",
       "6   23     Local-gov  210029  Some-college             10       Never-married   \n",
       "7   58       Private  126104       Masters             14            Divorced   \n",
       "8   23       Private  166527  Some-college             10       Never-married   \n",
       "9   61     Local-gov  144723       Masters             14  Married-civ-spouse   \n",
       "\n",
       "          occupation    relationship                race     sex  \\\n",
       "0    Exec-managerial         Husband               White    Male   \n",
       "1  Handlers-cleaners   Not-in-family               White    Male   \n",
       "2       Tech-support  Other-relative  Asian-Pac-Islander  Female   \n",
       "3     Prof-specialty   Not-in-family               White    Male   \n",
       "4       Craft-repair       Own-child               White    Male   \n",
       "5              Sales         Husband               White    Male   \n",
       "6       Adm-clerical       Own-child               White  Female   \n",
       "7       Adm-clerical   Not-in-family               White  Female   \n",
       "8    Exec-managerial       Own-child               Other  Female   \n",
       "9    Exec-managerial         Husband               White    Male   \n",
       "\n",
       "   capital_gain  capital_loss  hours_per_week native_country  \n",
       "0             0             0              25  United-States  \n",
       "1             0             0              50  United-States  \n",
       "2             0             0              32  United-States  \n",
       "3             0             0              55  United-States  \n",
       "4             0             0              40  United-States  \n",
       "5             0             0              50  United-States  \n",
       "6             0             0              20  United-States  \n",
       "7             0          1980              45  United-States  \n",
       "8             0             0              40  United-States  \n",
       "9          7298             0              60  United-States  "
      ]
     },
     "execution_count": 164,
     "metadata": {},
     "output_type": "execute_result"
    }
   ],
   "source": [
    "x_test"
   ]
  },
  {
   "cell_type": "code",
   "execution_count": 24,
   "id": "58e7cd9f-5daa-446e-ae6d-4c150db6e964",
   "metadata": {},
   "outputs": [
    {
     "data": {
      "text/html": [
       "<div>\n",
       "<style scoped>\n",
       "    .dataframe tbody tr th:only-of-type {\n",
       "        vertical-align: middle;\n",
       "    }\n",
       "\n",
       "    .dataframe tbody tr th {\n",
       "        vertical-align: top;\n",
       "    }\n",
       "\n",
       "    .dataframe thead th {\n",
       "        text-align: right;\n",
       "    }\n",
       "</style>\n",
       "<table border=\"1\" class=\"dataframe\">\n",
       "  <thead>\n",
       "    <tr style=\"text-align: right;\">\n",
       "      <th></th>\n",
       "      <th>age</th>\n",
       "      <th>workclass</th>\n",
       "      <th>fnlgt</th>\n",
       "      <th>education</th>\n",
       "      <th>education_num</th>\n",
       "      <th>marital_status</th>\n",
       "      <th>occupation</th>\n",
       "      <th>relationship</th>\n",
       "      <th>race</th>\n",
       "      <th>sex</th>\n",
       "      <th>capital_gain</th>\n",
       "      <th>capital_loss</th>\n",
       "      <th>hours_per_week</th>\n",
       "      <th>native_country</th>\n",
       "    </tr>\n",
       "  </thead>\n",
       "  <tbody>\n",
       "    <tr>\n",
       "      <th>0</th>\n",
       "      <td>72</td>\n",
       "      <td>Self-emp-inc</td>\n",
       "      <td>473748</td>\n",
       "      <td>Some-college</td>\n",
       "      <td>10</td>\n",
       "      <td>Married-civ-spouse</td>\n",
       "      <td>Exec-managerial</td>\n",
       "      <td>Husband</td>\n",
       "      <td>White</td>\n",
       "      <td>Male</td>\n",
       "      <td>0</td>\n",
       "      <td>0</td>\n",
       "      <td>25</td>\n",
       "      <td>United-States</td>\n",
       "    </tr>\n",
       "  </tbody>\n",
       "</table>\n",
       "</div>"
      ],
      "text/plain": [
       "   age     workclass   fnlgt     education  education_num      marital_status  \\\n",
       "0   72  Self-emp-inc  473748  Some-college             10  Married-civ-spouse   \n",
       "\n",
       "        occupation relationship   race   sex  capital_gain  capital_loss  \\\n",
       "0  Exec-managerial      Husband  White  Male             0             0   \n",
       "\n",
       "   hours_per_week native_country  \n",
       "0              25  United-States  "
      ]
     },
     "execution_count": 24,
     "metadata": {},
     "output_type": "execute_result"
    }
   ],
   "source": [
    "df"
   ]
  },
  {
   "cell_type": "code",
   "execution_count": null,
   "id": "a38de269-8ff7-4519-aeab-66a84b0b1fdf",
   "metadata": {},
   "outputs": [],
   "source": []
  }
 ],
 "metadata": {
  "kernelspec": {
   "display_name": "Python 3 (ipykernel)",
   "language": "python",
   "name": "python3"
  },
  "language_info": {
   "codemirror_mode": {
    "name": "ipython",
    "version": 3
   },
   "file_extension": ".py",
   "mimetype": "text/x-python",
   "name": "python",
   "nbconvert_exporter": "python",
   "pygments_lexer": "ipython3",
   "version": "3.8.12"
  }
 },
 "nbformat": 4,
 "nbformat_minor": 5
}

{
 "cells": [
  {
   "cell_type": "code",
   "execution_count": 1,
   "id": "cd4c03c1-50c1-49b0-9e60-4eb094514323",
   "metadata": {},
   "outputs": [
    {
     "name": "stdout",
     "output_type": "stream",
     "text": [
      "['/Users/ivanovitchsilva/mlops_nd_c3', '/Users/ivanovitchsilva/opt/anaconda3/envs/deploy/lib/python38.zip', '/Users/ivanovitchsilva/opt/anaconda3/envs/deploy/lib/python3.8', '/Users/ivanovitchsilva/opt/anaconda3/envs/deploy/lib/python3.8/lib-dynload', '', '/Users/ivanovitchsilva/opt/anaconda3/envs/deploy/lib/python3.8/site-packages', '/Users/ivanovitchsilva/mlops_nd_c3/', '/Users/ivanovitchsilva/mlops_nd_c3/pipeline']\n"
     ]
    }
   ],
   "source": [
    "\"\"\"\n",
    "Creator: Ivanovitch Silva\n",
    "Date: 26 Mar. 2022\n",
    "Create API\n",
    "\"\"\"\n",
    "import argparse\n",
    "import logging\n",
    "import pandas as pd\n",
    "import joblib\n",
    "import json\n",
    "from collections import defaultdict\n",
    "import sys\n",
    "import pathlib\n",
    "import os\n",
    "# append the folder into the path\n",
    "path = os.path.join(pathlib.Path.cwd(), \"\")\n",
    "sys.path.append(path)\n",
    "from pipeline.train.helper import inference, compute_model_metrics\n",
    "print(sys.path)"
   ]
  },
  {
   "cell_type": "code",
   "execution_count": 46,
   "id": "47d7aff9-f64f-4310-a50f-4340130e40d0",
   "metadata": {},
   "outputs": [],
   "source": [
    "\n",
    "# Downloading and reading test artifact\n",
    "df_test = pd.read_csv(\"pipeline/data/test_data.csv\")\n",
    "\n",
    "# Extract the target from the features\n",
    "x_test = df_test.copy()\n",
    "y_test = x_test.pop(\"salary\")\n",
    "\n",
    "# Take only 1 instance\n",
    "x_test = x_test.iloc[-5:]\n",
    "y_test = y_test.iloc[-5:]"
   ]
  },
  {
   "cell_type": "code",
   "execution_count": 47,
   "id": "cea1b6f1-d795-4e0a-8cae-e2d379b23712",
   "metadata": {
    "tags": []
   },
   "outputs": [
    {
     "data": {
      "text/plain": [
       "9757    <=50K\n",
       "9758    <=50K\n",
       "9759     >50K\n",
       "9760     >50K\n",
       "9761    <=50K\n",
       "Name: salary, dtype: object"
      ]
     },
     "execution_count": 47,
     "metadata": {},
     "output_type": "execute_result"
    }
   ],
   "source": [
    "y_test"
   ]
  },
  {
   "cell_type": "code",
   "execution_count": 48,
   "id": "1284fd44-cbed-4d91-950e-fba6a9d05408",
   "metadata": {},
   "outputs": [
    {
     "data": {
      "text/html": [
       "<div>\n",
       "<style scoped>\n",
       "    .dataframe tbody tr th:only-of-type {\n",
       "        vertical-align: middle;\n",
       "    }\n",
       "\n",
       "    .dataframe tbody tr th {\n",
       "        vertical-align: top;\n",
       "    }\n",
       "\n",
       "    .dataframe thead th {\n",
       "        text-align: right;\n",
       "    }\n",
       "</style>\n",
       "<table border=\"1\" class=\"dataframe\">\n",
       "  <thead>\n",
       "    <tr style=\"text-align: right;\">\n",
       "      <th></th>\n",
       "      <th>age</th>\n",
       "      <th>workclass</th>\n",
       "      <th>fnlwgt</th>\n",
       "      <th>education</th>\n",
       "      <th>education_num</th>\n",
       "      <th>marital_status</th>\n",
       "      <th>occupation</th>\n",
       "      <th>relationship</th>\n",
       "      <th>race</th>\n",
       "      <th>sex</th>\n",
       "      <th>capital_gain</th>\n",
       "      <th>capital_loss</th>\n",
       "      <th>hours_per_week</th>\n",
       "      <th>native_country</th>\n",
       "    </tr>\n",
       "  </thead>\n",
       "  <tbody>\n",
       "    <tr>\n",
       "      <th>9757</th>\n",
       "      <td>58</td>\n",
       "      <td>Self-emp-not-inc</td>\n",
       "      <td>140729</td>\n",
       "      <td>Bachelors</td>\n",
       "      <td>13</td>\n",
       "      <td>Married-civ-spouse</td>\n",
       "      <td>Farming-fishing</td>\n",
       "      <td>Husband</td>\n",
       "      <td>White</td>\n",
       "      <td>Male</td>\n",
       "      <td>0</td>\n",
       "      <td>0</td>\n",
       "      <td>35</td>\n",
       "      <td>United-States</td>\n",
       "    </tr>\n",
       "    <tr>\n",
       "      <th>9758</th>\n",
       "      <td>58</td>\n",
       "      <td>Local-gov</td>\n",
       "      <td>92141</td>\n",
       "      <td>Assoc-acdm</td>\n",
       "      <td>12</td>\n",
       "      <td>Widowed</td>\n",
       "      <td>Adm-clerical</td>\n",
       "      <td>Not-in-family</td>\n",
       "      <td>Black</td>\n",
       "      <td>Female</td>\n",
       "      <td>0</td>\n",
       "      <td>0</td>\n",
       "      <td>40</td>\n",
       "      <td>United-States</td>\n",
       "    </tr>\n",
       "    <tr>\n",
       "      <th>9759</th>\n",
       "      <td>45</td>\n",
       "      <td>Private</td>\n",
       "      <td>266860</td>\n",
       "      <td>Bachelors</td>\n",
       "      <td>13</td>\n",
       "      <td>Married-civ-spouse</td>\n",
       "      <td>Exec-managerial</td>\n",
       "      <td>Husband</td>\n",
       "      <td>White</td>\n",
       "      <td>Male</td>\n",
       "      <td>0</td>\n",
       "      <td>0</td>\n",
       "      <td>50</td>\n",
       "      <td>United-States</td>\n",
       "    </tr>\n",
       "    <tr>\n",
       "      <th>9760</th>\n",
       "      <td>46</td>\n",
       "      <td>Private</td>\n",
       "      <td>364548</td>\n",
       "      <td>Bachelors</td>\n",
       "      <td>13</td>\n",
       "      <td>Divorced</td>\n",
       "      <td>Sales</td>\n",
       "      <td>Not-in-family</td>\n",
       "      <td>White</td>\n",
       "      <td>Male</td>\n",
       "      <td>8614</td>\n",
       "      <td>0</td>\n",
       "      <td>40</td>\n",
       "      <td>United-States</td>\n",
       "    </tr>\n",
       "    <tr>\n",
       "      <th>9761</th>\n",
       "      <td>45</td>\n",
       "      <td>Private</td>\n",
       "      <td>428350</td>\n",
       "      <td>HS-grad</td>\n",
       "      <td>9</td>\n",
       "      <td>Married-civ-spouse</td>\n",
       "      <td>Machine-op-inspct</td>\n",
       "      <td>Wife</td>\n",
       "      <td>White</td>\n",
       "      <td>Female</td>\n",
       "      <td>0</td>\n",
       "      <td>1740</td>\n",
       "      <td>40</td>\n",
       "      <td>United-States</td>\n",
       "    </tr>\n",
       "  </tbody>\n",
       "</table>\n",
       "</div>"
      ],
      "text/plain": [
       "      age         workclass  fnlwgt   education  education_num  \\\n",
       "9757   58  Self-emp-not-inc  140729   Bachelors             13   \n",
       "9758   58         Local-gov   92141  Assoc-acdm             12   \n",
       "9759   45           Private  266860   Bachelors             13   \n",
       "9760   46           Private  364548   Bachelors             13   \n",
       "9761   45           Private  428350     HS-grad              9   \n",
       "\n",
       "          marital_status         occupation   relationship   race     sex  \\\n",
       "9757  Married-civ-spouse    Farming-fishing        Husband  White    Male   \n",
       "9758             Widowed       Adm-clerical  Not-in-family  Black  Female   \n",
       "9759  Married-civ-spouse    Exec-managerial        Husband  White    Male   \n",
       "9760            Divorced              Sales  Not-in-family  White    Male   \n",
       "9761  Married-civ-spouse  Machine-op-inspct           Wife  White  Female   \n",
       "\n",
       "      capital_gain  capital_loss  hours_per_week native_country  \n",
       "9757             0             0              35  United-States  \n",
       "9758             0             0              40  United-States  \n",
       "9759             0             0              50  United-States  \n",
       "9760          8614             0              40  United-States  \n",
       "9761             0          1740              40  United-States  "
      ]
     },
     "execution_count": 48,
     "metadata": {},
     "output_type": "execute_result"
    }
   ],
   "source": [
    "x_test"
   ]
  },
  {
   "cell_type": "code",
   "execution_count": 49,
   "id": "6133d8e9-bf85-4fe8-9cbd-e398865fea58",
   "metadata": {},
   "outputs": [],
   "source": [
    "import numpy as np\n",
    "# Extract the encoding of the target variable\n",
    "le = joblib.load(\"pipeline/data/encoder_export\")\n",
    "\n",
    "# transform y_train\n",
    "y_test = le.transform(np.array(y_test))"
   ]
  },
  {
   "cell_type": "code",
   "execution_count": 50,
   "id": "9183f5f0-1a10-44fc-96db-c0ef371916e2",
   "metadata": {},
   "outputs": [
    {
     "data": {
      "text/plain": [
       "array(['<=50K', '>50K'], dtype=object)"
      ]
     },
     "execution_count": 50,
     "metadata": {},
     "output_type": "execute_result"
    }
   ],
   "source": [
    "le.inverse_transform([0, 1])"
   ]
  },
  {
   "cell_type": "code",
   "execution_count": 51,
   "id": "463f2a84-3c48-4530-8774-7994bafba98d",
   "metadata": {},
   "outputs": [
    {
     "name": "stdout",
     "output_type": "stream",
     "text": [
      "[0 0 1 1 0]\n"
     ]
    }
   ],
   "source": [
    "# Download inference artifact\n",
    "pipe = joblib.load(\"pipeline/data/model_export\")\n",
    "\n",
    "# Predict test data\n",
    "predict = inference(pipe, x_test)\n",
    "\n",
    "print(predict)"
   ]
  },
  {
   "cell_type": "code",
   "execution_count": 52,
   "id": "ac773ce5-8d3e-4c45-87c7-d4a6f0b94d7d",
   "metadata": {},
   "outputs": [
    {
     "data": {
      "text/plain": [
       "2"
      ]
     },
     "execution_count": 52,
     "metadata": {},
     "output_type": "execute_result"
    }
   ],
   "source": [
    "sum(predict)"
   ]
  },
  {
   "cell_type": "code",
   "execution_count": 53,
   "id": "5dbf10ab-bf46-47fa-9041-0264c69154fb",
   "metadata": {},
   "outputs": [],
   "source": [
    "aux = x_test.iloc[-2].to_dict()"
   ]
  },
  {
   "cell_type": "code",
   "execution_count": 54,
   "id": "5d7409f7-04ba-4624-bb57-86190cd17072",
   "metadata": {},
   "outputs": [
    {
     "data": {
      "text/plain": [
       "{'age': 46,\n",
       " 'workclass': 'Private',\n",
       " 'fnlwgt': 364548,\n",
       " 'education': 'Bachelors',\n",
       " 'education_num': 13,\n",
       " 'marital_status': 'Divorced',\n",
       " 'occupation': 'Sales',\n",
       " 'relationship': 'Not-in-family',\n",
       " 'race': 'White',\n",
       " 'sex': 'Male',\n",
       " 'capital_gain': 8614,\n",
       " 'capital_loss': 0,\n",
       " 'hours_per_week': 40,\n",
       " 'native_country': 'United-States'}"
      ]
     },
     "execution_count": 54,
     "metadata": {},
     "output_type": "execute_result"
    }
   ],
   "source": [
    "aux"
   ]
  },
  {
   "cell_type": "code",
   "execution_count": 32,
   "id": "9527684e-4cd0-4e16-b2cc-39e90935d08b",
   "metadata": {
    "tags": []
   },
   "outputs": [],
   "source": [
    "df = pd.DataFrame([aux])"
   ]
  },
  {
   "cell_type": "code",
   "execution_count": 33,
   "id": "8dd49f67-fd43-4572-a9b1-556d1d771c7f",
   "metadata": {},
   "outputs": [
    {
     "data": {
      "text/html": [
       "<div>\n",
       "<style scoped>\n",
       "    .dataframe tbody tr th:only-of-type {\n",
       "        vertical-align: middle;\n",
       "    }\n",
       "\n",
       "    .dataframe tbody tr th {\n",
       "        vertical-align: top;\n",
       "    }\n",
       "\n",
       "    .dataframe thead th {\n",
       "        text-align: right;\n",
       "    }\n",
       "</style>\n",
       "<table border=\"1\" class=\"dataframe\">\n",
       "  <thead>\n",
       "    <tr style=\"text-align: right;\">\n",
       "      <th></th>\n",
       "      <th>age</th>\n",
       "      <th>workclass</th>\n",
       "      <th>fnlwgt</th>\n",
       "      <th>education</th>\n",
       "      <th>education_num</th>\n",
       "      <th>marital_status</th>\n",
       "      <th>occupation</th>\n",
       "      <th>relationship</th>\n",
       "      <th>race</th>\n",
       "      <th>sex</th>\n",
       "      <th>capital_gain</th>\n",
       "      <th>capital_loss</th>\n",
       "      <th>hours_per_week</th>\n",
       "      <th>native_country</th>\n",
       "    </tr>\n",
       "  </thead>\n",
       "  <tbody>\n",
       "    <tr>\n",
       "      <th>0</th>\n",
       "      <td>46</td>\n",
       "      <td>Private</td>\n",
       "      <td>364548</td>\n",
       "      <td>Bachelors</td>\n",
       "      <td>13</td>\n",
       "      <td>Divorced</td>\n",
       "      <td>Sales</td>\n",
       "      <td>Not-in-family</td>\n",
       "      <td>White</td>\n",
       "      <td>Male</td>\n",
       "      <td>8614</td>\n",
       "      <td>0</td>\n",
       "      <td>40</td>\n",
       "      <td>United-States</td>\n",
       "    </tr>\n",
       "  </tbody>\n",
       "</table>\n",
       "</div>"
      ],
      "text/plain": [
       "   age workclass  fnlwgt  education  education_num marital_status occupation  \\\n",
       "0   46   Private  364548  Bachelors             13       Divorced      Sales   \n",
       "\n",
       "    relationship   race   sex  capital_gain  capital_loss  hours_per_week  \\\n",
       "0  Not-in-family  White  Male          8614             0              40   \n",
       "\n",
       "  native_country  \n",
       "0  United-States  "
      ]
     },
     "execution_count": 33,
     "metadata": {},
     "output_type": "execute_result"
    }
   ],
   "source": [
    "df"
   ]
  },
  {
   "cell_type": "code",
   "execution_count": 34,
   "id": "6152a2f1-1df6-4230-802b-4c10ef0fe5ce",
   "metadata": {
    "tags": []
   },
   "outputs": [
    {
     "data": {
      "text/plain": [
       "array([[0.00819725, 0.99180275]], dtype=float32)"
      ]
     },
     "execution_count": 34,
     "metadata": {},
     "output_type": "execute_result"
    }
   ],
   "source": [
    "pipe.predict_proba(df)"
   ]
  },
  {
   "cell_type": "code",
   "execution_count": 35,
   "id": "f7dec007-2358-4cb2-818b-3bb12074ab8a",
   "metadata": {},
   "outputs": [
    {
     "data": {
      "text/plain": [
       "array([[0.00819725, 0.99180275]], dtype=float32)"
      ]
     },
     "execution_count": 35,
     "metadata": {},
     "output_type": "execute_result"
    }
   ],
   "source": [
    "pipe.predict_proba(df)"
   ]
  },
  {
   "cell_type": "code",
   "execution_count": 36,
   "id": "216e2f41-e666-4a30-8120-f104426a7694",
   "metadata": {},
   "outputs": [
    {
     "data": {
      "text/plain": [
       "array([[8.8608670e-01, 1.1391331e-01],\n",
       "       [7.3827106e-01, 2.6172894e-01],\n",
       "       [9.9950343e-01, 4.9658993e-04],\n",
       "       [6.6157997e-01, 3.3842000e-01],\n",
       "       [9.9994463e-01, 5.5343651e-05],\n",
       "       [7.4778473e-01, 2.5221524e-01],\n",
       "       [8.6894864e-01, 1.3105136e-01],\n",
       "       [1.8264055e-03, 9.9817359e-01],\n",
       "       [8.1972480e-03, 9.9180275e-01],\n",
       "       [8.7331384e-01, 1.2668614e-01]], dtype=float32)"
      ]
     },
     "execution_count": 36,
     "metadata": {},
     "output_type": "execute_result"
    }
   ],
   "source": [
    "pipe.predict_proba(x_test)"
   ]
  },
  {
   "cell_type": "code",
   "execution_count": 37,
   "id": "81ce471c-7447-4e70-b737-6060a10bc41b",
   "metadata": {},
   "outputs": [
    {
     "data": {
      "text/plain": [
       "array([[0.74778473, 0.25221524],\n",
       "       [0.86894864, 0.13105136],\n",
       "       [0.00182641, 0.9981736 ],\n",
       "       [0.00819725, 0.99180275],\n",
       "       [0.87331384, 0.12668614]], dtype=float32)"
      ]
     },
     "execution_count": 37,
     "metadata": {},
     "output_type": "execute_result"
    }
   ],
   "source": [
    "pipe.predict_proba(x_test.iloc[-5:])"
   ]
  },
  {
   "cell_type": "code",
   "execution_count": 38,
   "id": "1d8daba3-01dd-415d-9d46-948b817c1317",
   "metadata": {},
   "outputs": [
    {
     "data": {
      "text/plain": [
       "array([[8.8608670e-01, 1.1391331e-01],\n",
       "       [7.3827106e-01, 2.6172894e-01],\n",
       "       [9.9950343e-01, 4.9658993e-04],\n",
       "       [6.6157997e-01, 3.3842000e-01],\n",
       "       [9.9994463e-01, 5.5343651e-05],\n",
       "       [7.4778473e-01, 2.5221524e-01],\n",
       "       [8.6894864e-01, 1.3105136e-01],\n",
       "       [1.8264055e-03, 9.9817359e-01],\n",
       "       [8.1972480e-03, 9.9180275e-01],\n",
       "       [8.7331384e-01, 1.2668614e-01]], dtype=float32)"
      ]
     },
     "execution_count": 38,
     "metadata": {},
     "output_type": "execute_result"
    }
   ],
   "source": [
    "pipe.predict_proba(x_test)"
   ]
  },
  {
   "cell_type": "code",
   "execution_count": 39,
   "id": "e82032e2-4ead-4552-ab38-f429b9e9081f",
   "metadata": {
    "tags": []
   },
   "outputs": [
    {
     "data": {
      "text/plain": [
       "array([1])"
      ]
     },
     "execution_count": 39,
     "metadata": {},
     "output_type": "execute_result"
    }
   ],
   "source": [
    "# Predict test data\n",
    "predict = inference(pipe, df)\n",
    "predict"
   ]
  },
  {
   "cell_type": "code",
   "execution_count": 477,
   "id": "b6363b62-ca30-472b-8bdd-a56f5a266bf2",
   "metadata": {},
   "outputs": [
    {
     "data": {
      "text/plain": [
       "array([9.0000e+01, 8.1675e+05, 1.6000e+01, 9.9999e+04, 3.7700e+03,\n",
       "       9.9000e+01])"
      ]
     },
     "execution_count": 477,
     "metadata": {},
     "output_type": "execute_result"
    }
   ],
   "source": [
    "pipe.named_steps['full_pipeline'].get_params()[\"num_pipeline\"][2].scaler.data_max_"
   ]
  },
  {
   "cell_type": "code",
   "execution_count": 470,
   "id": "6fb8f1f9-06b4-4905-836f-96ba79d7f074",
   "metadata": {},
   "outputs": [
    {
     "data": {
      "text/plain": [
       "array([-0.23287671, -0.0240917 , -0.06666667,  0.        ,  0.        ,\n",
       "       -0.01020408])"
      ]
     },
     "execution_count": 470,
     "metadata": {},
     "output_type": "execute_result"
    }
   ],
   "source": [
    "pipe.named_steps['full_pipeline'].get_params()[\"num_pipeline\"][2].scaler.min_"
   ]
  },
  {
   "cell_type": "code",
   "execution_count": 509,
   "id": "3e96bf44-cb29-48a5-9493-306fb3ad2b03",
   "metadata": {},
   "outputs": [
    {
     "data": {
      "text/plain": [
       "Pipeline(steps=[('full_pipeline',\n",
       "                 FeatureUnion(transformer_list=[('cat_pipeline',\n",
       "                                                 Pipeline(steps=[('cat_selector',\n",
       "                                                                  FeatureSelector(feature_names=['workclass',\n",
       "                                                                                                 'education',\n",
       "                                                                                                 'marital_status',\n",
       "                                                                                                 'occupation',\n",
       "                                                                                                 'relationship',\n",
       "                                                                                                 'race',\n",
       "                                                                                                 'sex',\n",
       "                                                                                                 'native_country'])),\n",
       "                                                                 ('imputer_cat',\n",
       "                                                                  SimpleImputer(strategy='most_frequent')),\n",
       "                                                                 ('cat_transformer',\n",
       "                                                                  CategoricalTransformer(colname...\n",
       "                               gamma=0, gpu_id=-1, importance_type=None,\n",
       "                               interaction_constraints='', learning_rate=0.1,\n",
       "                               max_delta_step=0, max_depth=15,\n",
       "                               min_child_weight=1, missing=nan,\n",
       "                               monotone_constraints='()', n_estimators=400,\n",
       "                               n_jobs=8, num_parallel_tree=1, predictor='auto',\n",
       "                               random_state=0, reg_alpha=0, reg_lambda=1,\n",
       "                               scale_pos_weight=1, subsample=0.3,\n",
       "                               tree_method='exact', validate_parameters=1,\n",
       "                               verbosity=None))])"
      ]
     },
     "execution_count": 509,
     "metadata": {},
     "output_type": "execute_result"
    }
   ],
   "source": [
    "pipe"
   ]
  },
  {
   "cell_type": "code",
   "execution_count": 164,
   "id": "42301d1c-9c53-420f-8878-1359d281cc03",
   "metadata": {},
   "outputs": [
    {
     "data": {
      "text/html": [
       "<div>\n",
       "<style scoped>\n",
       "    .dataframe tbody tr th:only-of-type {\n",
       "        vertical-align: middle;\n",
       "    }\n",
       "\n",
       "    .dataframe tbody tr th {\n",
       "        vertical-align: top;\n",
       "    }\n",
       "\n",
       "    .dataframe thead th {\n",
       "        text-align: right;\n",
       "    }\n",
       "</style>\n",
       "<table border=\"1\" class=\"dataframe\">\n",
       "  <thead>\n",
       "    <tr style=\"text-align: right;\">\n",
       "      <th></th>\n",
       "      <th>age</th>\n",
       "      <th>workclass</th>\n",
       "      <th>fnlwgt</th>\n",
       "      <th>education</th>\n",
       "      <th>education_num</th>\n",
       "      <th>marital_status</th>\n",
       "      <th>occupation</th>\n",
       "      <th>relationship</th>\n",
       "      <th>race</th>\n",
       "      <th>sex</th>\n",
       "      <th>capital_gain</th>\n",
       "      <th>capital_loss</th>\n",
       "      <th>hours_per_week</th>\n",
       "      <th>native_country</th>\n",
       "    </tr>\n",
       "  </thead>\n",
       "  <tbody>\n",
       "    <tr>\n",
       "      <th>0</th>\n",
       "      <td>72</td>\n",
       "      <td>Self-emp-inc</td>\n",
       "      <td>473748</td>\n",
       "      <td>Some-college</td>\n",
       "      <td>10</td>\n",
       "      <td>Married-civ-spouse</td>\n",
       "      <td>Exec-managerial</td>\n",
       "      <td>Husband</td>\n",
       "      <td>White</td>\n",
       "      <td>Male</td>\n",
       "      <td>0</td>\n",
       "      <td>0</td>\n",
       "      <td>25</td>\n",
       "      <td>United-States</td>\n",
       "    </tr>\n",
       "    <tr>\n",
       "      <th>1</th>\n",
       "      <td>30</td>\n",
       "      <td>Private</td>\n",
       "      <td>306383</td>\n",
       "      <td>Some-college</td>\n",
       "      <td>10</td>\n",
       "      <td>Divorced</td>\n",
       "      <td>Handlers-cleaners</td>\n",
       "      <td>Not-in-family</td>\n",
       "      <td>White</td>\n",
       "      <td>Male</td>\n",
       "      <td>0</td>\n",
       "      <td>0</td>\n",
       "      <td>50</td>\n",
       "      <td>United-States</td>\n",
       "    </tr>\n",
       "    <tr>\n",
       "      <th>2</th>\n",
       "      <td>22</td>\n",
       "      <td>Private</td>\n",
       "      <td>229987</td>\n",
       "      <td>Some-college</td>\n",
       "      <td>10</td>\n",
       "      <td>Never-married</td>\n",
       "      <td>Tech-support</td>\n",
       "      <td>Other-relative</td>\n",
       "      <td>Asian-Pac-Islander</td>\n",
       "      <td>Female</td>\n",
       "      <td>0</td>\n",
       "      <td>0</td>\n",
       "      <td>32</td>\n",
       "      <td>United-States</td>\n",
       "    </tr>\n",
       "    <tr>\n",
       "      <th>3</th>\n",
       "      <td>22</td>\n",
       "      <td>Private</td>\n",
       "      <td>189950</td>\n",
       "      <td>Bachelors</td>\n",
       "      <td>13</td>\n",
       "      <td>Never-married</td>\n",
       "      <td>Prof-specialty</td>\n",
       "      <td>Not-in-family</td>\n",
       "      <td>White</td>\n",
       "      <td>Male</td>\n",
       "      <td>0</td>\n",
       "      <td>0</td>\n",
       "      <td>55</td>\n",
       "      <td>United-States</td>\n",
       "    </tr>\n",
       "    <tr>\n",
       "      <th>4</th>\n",
       "      <td>46</td>\n",
       "      <td>Private</td>\n",
       "      <td>218329</td>\n",
       "      <td>Some-college</td>\n",
       "      <td>10</td>\n",
       "      <td>Never-married</td>\n",
       "      <td>Craft-repair</td>\n",
       "      <td>Own-child</td>\n",
       "      <td>White</td>\n",
       "      <td>Male</td>\n",
       "      <td>0</td>\n",
       "      <td>0</td>\n",
       "      <td>40</td>\n",
       "      <td>United-States</td>\n",
       "    </tr>\n",
       "    <tr>\n",
       "      <th>5</th>\n",
       "      <td>48</td>\n",
       "      <td>Private</td>\n",
       "      <td>320421</td>\n",
       "      <td>HS-grad</td>\n",
       "      <td>9</td>\n",
       "      <td>Married-civ-spouse</td>\n",
       "      <td>Sales</td>\n",
       "      <td>Husband</td>\n",
       "      <td>White</td>\n",
       "      <td>Male</td>\n",
       "      <td>0</td>\n",
       "      <td>0</td>\n",
       "      <td>50</td>\n",
       "      <td>United-States</td>\n",
       "    </tr>\n",
       "    <tr>\n",
       "      <th>6</th>\n",
       "      <td>23</td>\n",
       "      <td>Local-gov</td>\n",
       "      <td>210029</td>\n",
       "      <td>Some-college</td>\n",
       "      <td>10</td>\n",
       "      <td>Never-married</td>\n",
       "      <td>Adm-clerical</td>\n",
       "      <td>Own-child</td>\n",
       "      <td>White</td>\n",
       "      <td>Female</td>\n",
       "      <td>0</td>\n",
       "      <td>0</td>\n",
       "      <td>20</td>\n",
       "      <td>United-States</td>\n",
       "    </tr>\n",
       "    <tr>\n",
       "      <th>7</th>\n",
       "      <td>58</td>\n",
       "      <td>Private</td>\n",
       "      <td>126104</td>\n",
       "      <td>Masters</td>\n",
       "      <td>14</td>\n",
       "      <td>Divorced</td>\n",
       "      <td>Adm-clerical</td>\n",
       "      <td>Not-in-family</td>\n",
       "      <td>White</td>\n",
       "      <td>Female</td>\n",
       "      <td>0</td>\n",
       "      <td>1980</td>\n",
       "      <td>45</td>\n",
       "      <td>United-States</td>\n",
       "    </tr>\n",
       "    <tr>\n",
       "      <th>8</th>\n",
       "      <td>23</td>\n",
       "      <td>Private</td>\n",
       "      <td>166527</td>\n",
       "      <td>Some-college</td>\n",
       "      <td>10</td>\n",
       "      <td>Never-married</td>\n",
       "      <td>Exec-managerial</td>\n",
       "      <td>Own-child</td>\n",
       "      <td>Other</td>\n",
       "      <td>Female</td>\n",
       "      <td>0</td>\n",
       "      <td>0</td>\n",
       "      <td>40</td>\n",
       "      <td>United-States</td>\n",
       "    </tr>\n",
       "    <tr>\n",
       "      <th>9</th>\n",
       "      <td>61</td>\n",
       "      <td>Local-gov</td>\n",
       "      <td>144723</td>\n",
       "      <td>Masters</td>\n",
       "      <td>14</td>\n",
       "      <td>Married-civ-spouse</td>\n",
       "      <td>Exec-managerial</td>\n",
       "      <td>Husband</td>\n",
       "      <td>White</td>\n",
       "      <td>Male</td>\n",
       "      <td>7298</td>\n",
       "      <td>0</td>\n",
       "      <td>60</td>\n",
       "      <td>United-States</td>\n",
       "    </tr>\n",
       "  </tbody>\n",
       "</table>\n",
       "</div>"
      ],
      "text/plain": [
       "   age     workclass  fnlwgt     education  education_num      marital_status  \\\n",
       "0   72  Self-emp-inc  473748  Some-college             10  Married-civ-spouse   \n",
       "1   30       Private  306383  Some-college             10            Divorced   \n",
       "2   22       Private  229987  Some-college             10       Never-married   \n",
       "3   22       Private  189950     Bachelors             13       Never-married   \n",
       "4   46       Private  218329  Some-college             10       Never-married   \n",
       "5   48       Private  320421       HS-grad              9  Married-civ-spouse   \n",
       "6   23     Local-gov  210029  Some-college             10       Never-married   \n",
       "7   58       Private  126104       Masters             14            Divorced   \n",
       "8   23       Private  166527  Some-college             10       Never-married   \n",
       "9   61     Local-gov  144723       Masters             14  Married-civ-spouse   \n",
       "\n",
       "          occupation    relationship                race     sex  \\\n",
       "0    Exec-managerial         Husband               White    Male   \n",
       "1  Handlers-cleaners   Not-in-family               White    Male   \n",
       "2       Tech-support  Other-relative  Asian-Pac-Islander  Female   \n",
       "3     Prof-specialty   Not-in-family               White    Male   \n",
       "4       Craft-repair       Own-child               White    Male   \n",
       "5              Sales         Husband               White    Male   \n",
       "6       Adm-clerical       Own-child               White  Female   \n",
       "7       Adm-clerical   Not-in-family               White  Female   \n",
       "8    Exec-managerial       Own-child               Other  Female   \n",
       "9    Exec-managerial         Husband               White    Male   \n",
       "\n",
       "   capital_gain  capital_loss  hours_per_week native_country  \n",
       "0             0             0              25  United-States  \n",
       "1             0             0              50  United-States  \n",
       "2             0             0              32  United-States  \n",
       "3             0             0              55  United-States  \n",
       "4             0             0              40  United-States  \n",
       "5             0             0              50  United-States  \n",
       "6             0             0              20  United-States  \n",
       "7             0          1980              45  United-States  \n",
       "8             0             0              40  United-States  \n",
       "9          7298             0              60  United-States  "
      ]
     },
     "execution_count": 164,
     "metadata": {},
     "output_type": "execute_result"
    }
   ],
   "source": [
    "x_test"
   ]
  },
  {
   "cell_type": "code",
   "execution_count": 453,
   "id": "58e7cd9f-5daa-446e-ae6d-4c150db6e964",
   "metadata": {},
   "outputs": [
    {
     "data": {
      "text/html": [
       "<div>\n",
       "<style scoped>\n",
       "    .dataframe tbody tr th:only-of-type {\n",
       "        vertical-align: middle;\n",
       "    }\n",
       "\n",
       "    .dataframe tbody tr th {\n",
       "        vertical-align: top;\n",
       "    }\n",
       "\n",
       "    .dataframe thead th {\n",
       "        text-align: right;\n",
       "    }\n",
       "</style>\n",
       "<table border=\"1\" class=\"dataframe\">\n",
       "  <thead>\n",
       "    <tr style=\"text-align: right;\">\n",
       "      <th></th>\n",
       "      <th>age</th>\n",
       "      <th>workclass</th>\n",
       "      <th>fnlwgt</th>\n",
       "      <th>education</th>\n",
       "      <th>education_num</th>\n",
       "      <th>marital_status</th>\n",
       "      <th>occupation</th>\n",
       "      <th>relationship</th>\n",
       "      <th>race</th>\n",
       "      <th>sex</th>\n",
       "      <th>capital_gain</th>\n",
       "      <th>capital_loss</th>\n",
       "      <th>hours_per_week</th>\n",
       "      <th>native_country</th>\n",
       "    </tr>\n",
       "  </thead>\n",
       "  <tbody>\n",
       "    <tr>\n",
       "      <th>0</th>\n",
       "      <td>50</td>\n",
       "      <td>Private</td>\n",
       "      <td>31014</td>\n",
       "      <td>HS-grad</td>\n",
       "      <td>9</td>\n",
       "      <td>Married-civ-spouse</td>\n",
       "      <td>Prof-specialty</td>\n",
       "      <td>Wife</td>\n",
       "      <td>White</td>\n",
       "      <td>Female</td>\n",
       "      <td>0</td>\n",
       "      <td>0</td>\n",
       "      <td>40</td>\n",
       "      <td>United-States</td>\n",
       "    </tr>\n",
       "  </tbody>\n",
       "</table>\n",
       "</div>"
      ],
      "text/plain": [
       "   age workclass  fnlwgt education  education_num      marital_status  \\\n",
       "0   50   Private   31014   HS-grad              9  Married-civ-spouse   \n",
       "\n",
       "       occupation relationship   race     sex  capital_gain  capital_loss  \\\n",
       "0  Prof-specialty         Wife  White  Female             0             0   \n",
       "\n",
       "   hours_per_week native_country  \n",
       "0              40  United-States  "
      ]
     },
     "execution_count": 453,
     "metadata": {},
     "output_type": "execute_result"
    }
   ],
   "source": [
    "df"
   ]
  },
  {
   "cell_type": "code",
   "execution_count": 411,
   "id": "a38de269-8ff7-4519-aeab-66a84b0b1fdf",
   "metadata": {},
   "outputs": [],
   "source": [
    "from sklearn.preprocessing import MinMaxScaler\n"
   ]
  },
  {
   "cell_type": "code",
   "execution_count": 454,
   "id": "ab7b3cc0-bba4-48d2-b988-04726d3d0f55",
   "metadata": {},
   "outputs": [],
   "source": [
    "data = [[-1, 2], [-0.5, 6], [0, 10], [1, 18]]\n",
    "scaler = MinMaxScaler()"
   ]
  },
  {
   "cell_type": "code",
   "execution_count": 455,
   "id": "5ca44ced-7002-4cbe-a84e-acd365977825",
   "metadata": {
    "tags": []
   },
   "outputs": [
    {
     "data": {
      "text/plain": [
       "MinMaxScaler()"
      ]
     },
     "execution_count": 455,
     "metadata": {},
     "output_type": "execute_result"
    }
   ],
   "source": [
    "scaler.fit(data)"
   ]
  },
  {
   "cell_type": "code",
   "execution_count": 456,
   "id": "601207b9-d5b9-4bc6-99d4-7b8ea8965a77",
   "metadata": {},
   "outputs": [
    {
     "data": {
      "text/plain": [
       "array([ 0.5  , -0.125])"
      ]
     },
     "execution_count": 456,
     "metadata": {},
     "output_type": "execute_result"
    }
   ],
   "source": [
    "scaler.min_\n"
   ]
  },
  {
   "cell_type": "code",
   "execution_count": null,
   "id": "66d41624-29fe-4900-96b0-d633aa8be8fb",
   "metadata": {},
   "outputs": [],
   "source": []
  }
 ],
 "metadata": {
  "kernelspec": {
   "display_name": "Python 3 (ipykernel)",
   "language": "python",
   "name": "python3"
  },
  "language_info": {
   "codemirror_mode": {
    "name": "ipython",
    "version": 3
   },
   "file_extension": ".py",
   "mimetype": "text/x-python",
   "name": "python",
   "nbconvert_exporter": "python",
   "pygments_lexer": "ipython3",
   "version": "3.8.12"
  }
 },
 "nbformat": 4,
 "nbformat_minor": 5
}
